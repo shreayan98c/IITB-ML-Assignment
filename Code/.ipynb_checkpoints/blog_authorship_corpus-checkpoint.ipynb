{
 "cells": [
  {
   "cell_type": "markdown",
   "metadata": {},
   "source": [
    "## Natural Language Processing"
   ]
  },
  {
   "cell_type": "code",
   "execution_count": 1,
   "metadata": {},
   "outputs": [],
   "source": [
    "# Importing the libraries\n",
    "import os\n",
    "import numpy as np\n",
    "import pandas as pd\n",
    "import matplotlib.pyplot as plt\n",
    "import seaborn as sns\n",
    "from sklearn import metrics"
   ]
  },
  {
   "cell_type": "code",
   "execution_count": 33,
   "metadata": {},
   "outputs": [
    {
     "name": "stderr",
     "output_type": "stream",
     "text": [
      "[nltk_data] Downloading package stopwords to\n",
      "[nltk_data]     C:\\Users\\shrea\\AppData\\Roaming\\nltk_data...\n",
      "[nltk_data]   Package stopwords is already up-to-date!\n"
     ]
    }
   ],
   "source": [
    "# Importing the NLP libraries\n",
    "import re\n",
    "import nltk\n",
    "nltk.download('stopwords')\n",
    "from nltk.corpus import stopwords\n",
    "from nltk.stem.porter import PorterStemmer\n",
    "import xml.etree.ElementTree as et\n",
    "from xml.sax.saxutils import escape, unescape"
   ]
  },
  {
   "cell_type": "code",
   "execution_count": 3,
   "metadata": {},
   "outputs": [
    {
     "data": {
      "text/plain": [
       "['11253.male.26.Technology.Aquarius.xml',\n",
       " '11762.female.25.Student.Aries.xml',\n",
       " '15365.female.34.indUnk.Cancer.xml',\n",
       " '17944.female.39.indUnk.Sagittarius.xml',\n",
       " '21828.male.40.Internet.Cancer.xml',\n",
       " '23166.female.25.indUnk.Virgo.xml',\n",
       " '23191.female.23.Advertising.Taurus.xml',\n",
       " '23676.male.33.Technology.Scorpio.xml',\n",
       " '24336.male.24.Technology.Leo.xml',\n",
       " '5114.male.25.indUnk.Scorpio.xml',\n",
       " '7596.male.26.Internet.Scorpio.xml',\n",
       " '8173.male.42.indUnk.Capricorn.xml',\n",
       " '8349.male.24.Consulting.Cancer.xml',\n",
       " '9289.male.23.Marketing.Taurus.xml',\n",
       " '9470.male.25.Communications-Media.Aries.xml']"
      ]
     },
     "execution_count": 3,
     "metadata": {},
     "output_type": "execute_result"
    }
   ],
   "source": [
    "os.listdir('./Dataset/The Blog Authorship Dataset')"
   ]
  },
  {
   "cell_type": "code",
   "execution_count": 4,
   "metadata": {},
   "outputs": [
    {
     "name": "stdout",
     "output_type": "stream",
     "text": [
      "I am in file : 11253.male.26.Technology.Aquarius.xml\n",
      "I am in file : 11762.female.25.Student.Aries.xml\n",
      "I am in file : 15365.female.34.indUnk.Cancer.xml\n",
      "I am in file : 17944.female.39.indUnk.Sagittarius.xml\n",
      "I am in file : 21828.male.40.Internet.Cancer.xml\n",
      "I am in file : 23166.female.25.indUnk.Virgo.xml\n",
      "I am in file : 23191.female.23.Advertising.Taurus.xml\n",
      "I am in file : 23676.male.33.Technology.Scorpio.xml\n",
      "I am in file : 24336.male.24.Technology.Leo.xml\n",
      "I am in file : 5114.male.25.indUnk.Scorpio.xml\n",
      "I am in file : 7596.male.26.Internet.Scorpio.xml\n",
      "I am in file : 8173.male.42.indUnk.Capricorn.xml\n",
      "I am in file : 8349.male.24.Consulting.Cancer.xml\n",
      "I am in file : 9289.male.23.Marketing.Taurus.xml\n",
      "I am in file : 9470.male.25.Communications-Media.Aries.xml\n"
     ]
    }
   ],
   "source": [
    "for i in os.listdir('./Dataset/The Blog Authorship Dataset'):\n",
    "    print(\"I am in file : \" + i)"
   ]
  },
  {
   "cell_type": "code",
   "execution_count": 26,
   "metadata": {},
   "outputs": [],
   "source": [
    "encoding  = '<?xml version=\"1.0\" encoding=\"UTF-8\"?>'"
   ]
  },
  {
   "cell_type": "code",
   "execution_count": 35,
   "metadata": {},
   "outputs": [
    {
     "ename": "ParseError",
     "evalue": "undefined entity: line 7, column 475 (<string>)",
     "output_type": "error",
     "traceback": [
      "Traceback \u001b[1;36m(most recent call last)\u001b[0m:\n",
      "  File \u001b[0;32m\"F:\\Installed\\Anaconda3\\lib\\site-packages\\IPython\\core\\interactiveshell.py\"\u001b[0m, line \u001b[0;32m3267\u001b[0m, in \u001b[0;35mrun_code\u001b[0m\n    exec(code_obj, self.user_global_ns, self.user_ns)\n",
      "  File \u001b[0;32m\"<ipython-input-35-00e72e197a76>\"\u001b[0m, line \u001b[0;32m2\u001b[0m, in \u001b[0;35m<module>\u001b[0m\n    xtree = et.parse(escape(path))\n",
      "  File \u001b[0;32m\"F:\\Installed\\Anaconda3\\lib\\xml\\etree\\ElementTree.py\"\u001b[0m, line \u001b[0;32m1197\u001b[0m, in \u001b[0;35mparse\u001b[0m\n    tree.parse(source, parser)\n",
      "\u001b[1;36m  File \u001b[1;32m\"F:\\Installed\\Anaconda3\\lib\\xml\\etree\\ElementTree.py\"\u001b[1;36m, line \u001b[1;32m598\u001b[1;36m, in \u001b[1;35mparse\u001b[1;36m\u001b[0m\n\u001b[1;33m    self._root = parser._parse_whole(source)\u001b[0m\n",
      "\u001b[1;36m  File \u001b[1;32m\"<string>\"\u001b[1;36m, line \u001b[1;32munknown\u001b[0m\n\u001b[1;31mParseError\u001b[0m\u001b[1;31m:\u001b[0m undefined entity: line 7, column 475\n"
     ]
    }
   ],
   "source": [
    "# Importing the dataset\n",
    "xtree = et.parse(escape(path))"
   ]
  },
  {
   "cell_type": "code",
   "execution_count": 30,
   "metadata": {},
   "outputs": [],
   "source": [
    "path = r'./Dataset/The Blog Authorship Dataset/11253.male.26.Technology.Aquarius.xml'"
   ]
  },
  {
   "cell_type": "code",
   "execution_count": 31,
   "metadata": {},
   "outputs": [
    {
     "data": {
      "text/plain": [
       "'./Dataset/The Blog Authorship Dataset/11253.male.26.Technology.Aquarius.xml'"
      ]
     },
     "execution_count": 31,
     "metadata": {},
     "output_type": "execute_result"
    }
   ],
   "source": [
    "path"
   ]
  },
  {
   "cell_type": "code",
   "execution_count": 28,
   "metadata": {},
   "outputs": [
    {
     "ename": "SyntaxError",
     "evalue": "invalid syntax (<ipython-input-28-cfe98b0093f3>, line 7)",
     "output_type": "error",
     "traceback": [
      "\u001b[1;36m  File \u001b[1;32m\"<ipython-input-28-cfe98b0093f3>\"\u001b[1;36m, line \u001b[1;32m7\u001b[0m\n\u001b[1;33m    <tag1>On &amp; On &amp; On</tag1>\u001b[0m\n\u001b[1;37m    ^\u001b[0m\n\u001b[1;31mSyntaxError\u001b[0m\u001b[1;31m:\u001b[0m invalid syntax\n"
     ]
    }
   ],
   "source": [
    "myxml = r'<tag1>On & On &amp; On</tag1>'\n",
    "regex = re.compile(r\"&(?!amp;|lt;|gt;)\")\n",
    "myxml = regex.sub(\"&amp;\", myxml)\n",
    "\n",
    "print(myxml)\n",
    "\n",
    "<tag1>On &amp; On &amp; On</tag1>\n"
   ]
  },
  {
   "cell_type": "code",
   "execution_count": 36,
   "metadata": {},
   "outputs": [
    {
     "data": {
      "text/plain": [
       "'./Dataset/The Blog Authorship Dataset/11253.male.26.Technology.Aquarius.xml'"
      ]
     },
     "execution_count": 36,
     "metadata": {},
     "output_type": "execute_result"
    }
   ],
   "source": [
    "escape(path)"
   ]
  },
  {
   "cell_type": "code",
   "execution_count": null,
   "metadata": {},
   "outputs": [],
   "source": [
    "def XMLtoString(file):\n",
    "    "
   ]
  }
 ],
 "metadata": {
  "kernelspec": {
   "display_name": "Python 3",
   "language": "python",
   "name": "python3"
  },
  "language_info": {
   "codemirror_mode": {
    "name": "ipython",
    "version": 3
   },
   "file_extension": ".py",
   "mimetype": "text/x-python",
   "name": "python",
   "nbconvert_exporter": "python",
   "pygments_lexer": "ipython3",
   "version": "3.7.1"
  },
  "varInspector": {
   "cols": {
    "lenName": 16,
    "lenType": 16,
    "lenVar": 40
   },
   "kernels_config": {
    "python": {
     "delete_cmd_postfix": "",
     "delete_cmd_prefix": "del ",
     "library": "var_list.py",
     "varRefreshCmd": "print(var_dic_list())"
    },
    "r": {
     "delete_cmd_postfix": ") ",
     "delete_cmd_prefix": "rm(",
     "library": "var_list.r",
     "varRefreshCmd": "cat(var_dic_list()) "
    }
   },
   "position": {
    "height": "314px",
    "left": "490px",
    "right": "20px",
    "top": "120px",
    "width": "448px"
   },
   "types_to_exclude": [
    "module",
    "function",
    "builtin_function_or_method",
    "instance",
    "_Feature"
   ],
   "window_display": false
  }
 },
 "nbformat": 4,
 "nbformat_minor": 2
}
