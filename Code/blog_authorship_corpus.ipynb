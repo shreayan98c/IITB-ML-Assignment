{
 "cells": [
  {
   "cell_type": "markdown",
   "metadata": {},
   "source": [
    "## Natural Language Processing"
   ]
  },
  {
   "cell_type": "code",
   "execution_count": 1,
   "metadata": {},
   "outputs": [],
   "source": [
    "# Importing the libraries\n",
    "import os\n",
    "import numpy as np\n",
    "import pandas as pd\n",
    "import matplotlib.pyplot as plt\n",
    "import seaborn as sns\n",
    "from sklearn import metrics"
   ]
  },
  {
   "cell_type": "code",
   "execution_count": 2,
   "metadata": {},
   "outputs": [
    {
     "name": "stderr",
     "output_type": "stream",
     "text": [
      "[nltk_data] Downloading package stopwords to\n",
      "[nltk_data]     C:\\Users\\shrea\\AppData\\Roaming\\nltk_data...\n",
      "[nltk_data]   Package stopwords is already up-to-date!\n"
     ]
    }
   ],
   "source": [
    "# Importing the NLP libraries\n",
    "import re\n",
    "import nltk\n",
    "nltk.download('stopwords')\n",
    "from nltk.corpus import stopwords\n",
    "from nltk.stem.porter import PorterStemmer\n",
    "import xml.etree.ElementTree as et\n",
    "from xml.sax.saxutils import escape, unescape"
   ]
  },
  {
   "cell_type": "code",
   "execution_count": 3,
   "metadata": {},
   "outputs": [
    {
     "data": {
      "text/plain": [
       "['11253.male.26.Technology.Aquarius.xml',\n",
       " '11762.female.25.Student.Aries.xml',\n",
       " '15365.female.34.indUnk.Cancer.xml',\n",
       " '17944.female.39.indUnk.Sagittarius.xml',\n",
       " '21828.male.40.Internet.Cancer.xml',\n",
       " '23166.female.25.indUnk.Virgo.xml',\n",
       " '23191.female.23.Advertising.Taurus.xml',\n",
       " '23676.male.33.Technology.Scorpio.xml',\n",
       " '24336.male.24.Technology.Leo.xml',\n",
       " '5114.male.25.indUnk.Scorpio.xml',\n",
       " '7596.male.26.Internet.Scorpio.xml',\n",
       " '8173.male.42.indUnk.Capricorn.xml',\n",
       " '8349.male.24.Consulting.Cancer.xml',\n",
       " '9289.male.23.Marketing.Taurus.xml',\n",
       " '9470.male.25.Communications-Media.Aries.xml']"
      ]
     },
     "execution_count": 3,
     "metadata": {},
     "output_type": "execute_result"
    }
   ],
   "source": [
    "os.listdir('./Dataset/The Blog Authorship Dataset')"
   ]
  },
  {
   "cell_type": "code",
   "execution_count": 4,
   "metadata": {},
   "outputs": [
    {
     "name": "stdout",
     "output_type": "stream",
     "text": [
      "I am in file : 11253.male.26.Technology.Aquarius.xml\n",
      "I am in file : 11762.female.25.Student.Aries.xml\n",
      "I am in file : 15365.female.34.indUnk.Cancer.xml\n",
      "I am in file : 17944.female.39.indUnk.Sagittarius.xml\n",
      "I am in file : 21828.male.40.Internet.Cancer.xml\n",
      "I am in file : 23166.female.25.indUnk.Virgo.xml\n",
      "I am in file : 23191.female.23.Advertising.Taurus.xml\n",
      "I am in file : 23676.male.33.Technology.Scorpio.xml\n",
      "I am in file : 24336.male.24.Technology.Leo.xml\n",
      "I am in file : 5114.male.25.indUnk.Scorpio.xml\n",
      "I am in file : 7596.male.26.Internet.Scorpio.xml\n",
      "I am in file : 8173.male.42.indUnk.Capricorn.xml\n",
      "I am in file : 8349.male.24.Consulting.Cancer.xml\n",
      "I am in file : 9289.male.23.Marketing.Taurus.xml\n",
      "I am in file : 9470.male.25.Communications-Media.Aries.xml\n"
     ]
    }
   ],
   "source": [
    "for i in os.listdir('./Dataset/The Blog Authorship Dataset'):\n",
    "    print(\"I am in file : \" + i)"
   ]
  },
  {
   "cell_type": "code",
   "execution_count": 5,
   "metadata": {},
   "outputs": [],
   "source": [
    "encoding  = '<?xml version=\"1.0\" encoding=\"UTF-8\"?>'"
   ]
  },
  {
   "cell_type": "code",
   "execution_count": 6,
   "metadata": {},
   "outputs": [],
   "source": [
    "def XMLtoString(file):\n",
    "    with open(file) as data:\n",
    "        contents = data.read()\n",
    "    return contents"
   ]
  },
  {
   "cell_type": "code",
   "execution_count": 7,
   "metadata": {},
   "outputs": [
    {
     "data": {
      "text/plain": [
       "'./Dataset/The Blog Authorship Dataset/11253.male.26.Technology.Aquarius.xml'"
      ]
     },
     "execution_count": 7,
     "metadata": {},
     "output_type": "execute_result"
    }
   ],
   "source": [
    "path = r'./Dataset/The Blog Authorship Dataset/11253.male.26.Technology.Aquarius.xml'\n",
    "path"
   ]
  },
  {
   "cell_type": "code",
   "execution_count": 8,
   "metadata": {},
   "outputs": [
    {
     "data": {
      "text/plain": [
       "'<Blog>\\n\\n<date>20,July,2004</date>\\n<post>\\n\\n     \\n      About to go t bed late (again) got sucked into (another) late night film. Tonight was  urlLink Maybe Baby . It was really good made me think, but not about babies. The guy screws up his marriage and it made me think about making sure, everyday, that mine is tip top. If I\\'m honest there are areas that we are just getting by in - so I need to resolve to sort them out now before they are a problem. In the film they both keep diaries so I thought I should blog tonight.&nbsp;   Weekend was hectic but great fun. Not that long ago k and I had to work on spending time with other people as a couple. This weekend we never ate alone, except breakfast.&nbsp; K, P and I went for a very breif trip on the river saturday durring a gap in the weather. K stripped off and went for a swim, I love her so much.&nbsp;   Tonight we went out for dinner. It was a lovely evening, the first in weeks, so we ate at the Bridge and sat outside, next to the  urlLink river .     \\n     \\n    \\n</post>\\n\\n<date>14,July,2004</date>\\n<post>\\n\\n     \\n      My Dad has always wanted to go to  urlLink America . I have been several times, for holidays, to see friends or for work. I\\'d love to go with Dad and go on a long road trip. Would make a better blog than this.\\n     \\n    \\n</post>\\n\\n<date>12,July,2004</date>\\n<post>\\n\\n     \\n      ...is a guy painting a blue wall blue.\\n     \\n    \\n</post>\\n\\n<date>11,July,2004</date>\\n<post>\\n\\n     \\n      Can\\'t the  urlLink weather  just sort itself out. I\\'m sure we\\'d already had 2 heat waves by this point last year. I look out of my window on yet another grey day. I wouldn\\'t mind but this is the last free weekend I\\'ll have in a while I want to be out enjoying it.  Yesterday we wrote some thank you cards. Kirsten worked on the garden and I bottled my latest batch of  urlLink beer . In the evening Anna and Jon came around for dinner. I made a lasagne, for the first time, and it was good fun. I\\'d not been feeling too great all day and was exhausted by bed time.  This morning K felt ill and stayed in bed. I was stewarding at church and as usual I was put on car parking. We(I) messed up giving out the buckets for the offering but it was ok. After church I dropped some firewood around to Liz and dropped off K\\'s keys while I was there. Liz wasn\\'t in but I saw paddy through the back door as I left the wood.  I don\\'t feel that great myself. Might be time to join K in the sick bed.\\n     \\n    \\n</post>\\n\\n<date>09,July,2004</date>\\n<post>\\n\\n     \\n      At last back to a normal company where it expected that you go to the pub at lunch on Fridays. Plus they have free breakfast (quite a spread too!). Good to do a bit of socialising.\\n     \\n    \\n</post>\\n\\n<date>08,July,2004</date>\\n<post>\\n\\n     \\n      Induction, on Monday, was in a building right opposite the  urlLink gherkin . If I\\'d known I would have taken my camera. I had a bit of time to kill after getting off the train so I went for a bit of a wander around the city.  So I\\'ve been in the Cambridge office for 3 days now. The job is good and the people friendly. There is no tuckshop which will be good for my waistline but currently I\\'m craving snacks!  My  urlLink HDD case  arrived on Tuesday. I had a few problems at first getting it working with the aluminum case on but once I added a bit of card under the circuit board to act as insulation it worked fine. It is really small, hardly bigger than a 2.5\" drive and it works really well.  Also to arrive on Tuesday was the adoption certificate for my gibbon. NCorp  urlLink adopted  me a gibbon to remind me of them as my leaving gift. I\\'m sure that I have a part share in a whole troop of gibbons but I like to think there is one that\\'s mine. I have called him Dobbo.  Andy & Anita came to dinner on Tuesday night. After dinner the whole proceedings kind of deteriorated into Kirsten and Anita playing the drums while Andy tried to fix my  urlLink sparc station . Much fun was had by all.  Yesterday Labhaoise passed her driving test so K and her when to look at cars together. Pete, Labhaoise, K and I went to see  urlLink Shrek 2  in the evening which was really good.  Labhaoise was going to drive us home but then the lights in Pete\\'s car broke (again) so he drove us back to our house. Pete and I  urlLink fixed  the lights so Labhaoise could drive the car back to their house. \\n     \\n    \\n</post>\\n\\n<date>04,July,2004</date>\\n<post>\\n\\n     \\n      Welcome back. Well sort of, I discovered that my old blog from 2000 was still on the blogger.com server. I read the thirteen posts and they were really dull so I deleted the blog. It was from the days when I was living with my Dad after uni and working for Pilks. It was a month or two before I went to work in the USA which would have made a much more interesting blog had I done it.  Tomorrow I\\'m off to London for my induction meeting at my new company. I\\'m so relieved to leave NCorp that I haven\\'t really given the new place much thought. I\\'m sure it will be great, I was really into the new place 3 months ago when I got the job but  urlLink the pangalactic bellwether in miserable notice periods  has kind of taken the sparkle off it a bit.  At least the train ride down will give me time to write to manda - haven\\'t been in touch since the wedding - bad pen pal!   \\n     \\n    \\n</post>\\n\\n\\n</Blog>'"
      ]
     },
     "execution_count": 8,
     "metadata": {},
     "output_type": "execute_result"
    }
   ],
   "source": [
    "contents = XMLtoString(path)\n",
    "contents"
   ]
  },
  {
   "cell_type": "code",
   "execution_count": 9,
   "metadata": {},
   "outputs": [],
   "source": [
    "# contents = escape(contents)"
   ]
  },
  {
   "cell_type": "code",
   "execution_count": 10,
   "metadata": {
    "scrolled": true
   },
   "outputs": [
    {
     "ename": "FileNotFoundError",
     "evalue": "[Errno 2] No such file or directory: '<Blog>\\n\\n<date>20,July,2004</date>\\n<post>\\n\\n     \\n      About to go t bed late (again) got sucked into (another) late night film. Tonight was  urlLink Maybe Baby . It was really good made me think, but not about babies. The guy screws up his marriage and it made me think about making sure, everyday, that mine is tip top. If I\\'m honest there are areas that we are just getting by in - so I need to resolve to sort them out now before they are a problem. In the film they both keep diaries so I thought I should blog tonight.&nbsp;   Weekend was hectic but great fun. Not that long ago k and I had to work on spending time with other people as a couple. This weekend we never ate alone, except breakfast.&nbsp; K, P and I went for a very breif trip on the river saturday durring a gap in the weather. K stripped off and went for a swim, I love her so much.&nbsp;   Tonight we went out for dinner. It was a lovely evening, the first in weeks, so we ate at the Bridge and sat outside, next to the  urlLink river .     \\n     \\n    \\n</post>\\n\\n<date>14,July,2004</date>\\n<post>\\n\\n     \\n      My Dad has always wanted to go to  urlLink America . I have been several times, for holidays, to see friends or for work. I\\'d love to go with Dad and go on a long road trip. Would make a better blog than this.\\n     \\n    \\n</post>\\n\\n<date>12,July,2004</date>\\n<post>\\n\\n     \\n      ...is a guy painting a blue wall blue.\\n     \\n    \\n</post>\\n\\n<date>11,July,2004</date>\\n<post>\\n\\n     \\n      Can\\'t the  urlLink weather  just sort itself out. I\\'m sure we\\'d already had 2 heat waves by this point last year. I look out of my window on yet another grey day. I wouldn\\'t mind but this is the last free weekend I\\'ll have in a while I want to be out enjoying it.  Yesterday we wrote some thank you cards. Kirsten worked on the garden and I bottled my latest batch of  urlLink beer . In the evening Anna and Jon came around for dinner. I made a lasagne, for the first time, and it was good fun. I\\'d not been feeling too great all day and was exhausted by bed time.  This morning K felt ill and stayed in bed. I was stewarding at church and as usual I was put on car parking. We(I) messed up giving out the buckets for the offering but it was ok. After church I dropped some firewood around to Liz and dropped off K\\'s keys while I was there. Liz wasn\\'t in but I saw paddy through the back door as I left the wood.  I don\\'t feel that great myself. Might be time to join K in the sick bed.\\n     \\n    \\n</post>\\n\\n<date>09,July,2004</date>\\n<post>\\n\\n     \\n      At last back to a normal company where it expected that you go to the pub at lunch on Fridays. Plus they have free breakfast (quite a spread too!). Good to do a bit of socialising.\\n     \\n    \\n</post>\\n\\n<date>08,July,2004</date>\\n<post>\\n\\n     \\n      Induction, on Monday, was in a building right opposite the  urlLink gherkin . If I\\'d known I would have taken my camera. I had a bit of time to kill after getting off the train so I went for a bit of a wander around the city.  So I\\'ve been in the Cambridge office for 3 days now. The job is good and the people friendly. There is no tuckshop which will be good for my waistline but currently I\\'m craving snacks!  My  urlLink HDD case  arrived on Tuesday. I had a few problems at first getting it working with the aluminum case on but once I added a bit of card under the circuit board to act as insulation it worked fine. It is really small, hardly bigger than a 2.5\" drive and it works really well.  Also to arrive on Tuesday was the adoption certificate for my gibbon. NCorp  urlLink adopted  me a gibbon to remind me of them as my leaving gift. I\\'m sure that I have a part share in a whole troop of gibbons but I like to think there is one that\\'s mine. I have called him Dobbo.  Andy & Anita came to dinner on Tuesday night. After dinner the whole proceedings kind of deteriorated into Kirsten and Anita playing the drums while Andy tried to fix my  urlLink sparc station . Much fun was had by all.  Yesterday Labhaoise passed her driving test so K and her when to look at cars together. Pete, Labhaoise, K and I went to see  urlLink Shrek 2  in the evening which was really good.  Labhaoise was going to drive us home but then the lights in Pete\\'s car broke (again) so he drove us back to our house. Pete and I  urlLink fixed  the lights so Labhaoise could drive the car back to their house. \\n     \\n    \\n</post>\\n\\n<date>04,July,2004</date>\\n<post>\\n\\n     \\n      Welcome back. Well sort of, I discovered that my old blog from 2000 was still on the blogger.com server. I read the thirteen posts and they were really dull so I deleted the blog. It was from the days when I was living with my Dad after uni and working for Pilks. It was a month or two before I went to work in the USA which would have made a much more interesting blog had I done it.  Tomorrow I\\'m off to London for my induction meeting at my new company. I\\'m so relieved to leave NCorp that I haven\\'t really given the new place much thought. I\\'m sure it will be great, I was really into the new place 3 months ago when I got the job but  urlLink the pangalactic bellwether in miserable notice periods  has kind of taken the sparkle off it a bit.  At least the train ride down will give me time to write to manda - haven\\'t been in touch since the wedding - bad pen pal!   \\n     \\n    \\n</post>\\n\\n\\n</Blog>'",
     "output_type": "error",
     "traceback": [
      "\u001b[1;31m---------------------------------------------------------------------------\u001b[0m",
      "\u001b[1;31mFileNotFoundError\u001b[0m                         Traceback (most recent call last)",
      "\u001b[1;32m<ipython-input-10-73018a5a9c65>\u001b[0m in \u001b[0;36m<module>\u001b[1;34m\u001b[0m\n\u001b[1;32m----> 1\u001b[1;33m \u001b[0mxtree\u001b[0m \u001b[1;33m=\u001b[0m \u001b[0met\u001b[0m\u001b[1;33m.\u001b[0m\u001b[0mparse\u001b[0m\u001b[1;33m(\u001b[0m\u001b[0mcontents\u001b[0m\u001b[1;33m)\u001b[0m\u001b[1;33m\u001b[0m\u001b[1;33m\u001b[0m\u001b[0m\n\u001b[0m",
      "\u001b[1;32mF:\\Installed\\Anaconda3\\lib\\xml\\etree\\ElementTree.py\u001b[0m in \u001b[0;36mparse\u001b[1;34m(source, parser)\u001b[0m\n\u001b[0;32m   1195\u001b[0m     \"\"\"\n\u001b[0;32m   1196\u001b[0m     \u001b[0mtree\u001b[0m \u001b[1;33m=\u001b[0m \u001b[0mElementTree\u001b[0m\u001b[1;33m(\u001b[0m\u001b[1;33m)\u001b[0m\u001b[1;33m\u001b[0m\u001b[1;33m\u001b[0m\u001b[0m\n\u001b[1;32m-> 1197\u001b[1;33m     \u001b[0mtree\u001b[0m\u001b[1;33m.\u001b[0m\u001b[0mparse\u001b[0m\u001b[1;33m(\u001b[0m\u001b[0msource\u001b[0m\u001b[1;33m,\u001b[0m \u001b[0mparser\u001b[0m\u001b[1;33m)\u001b[0m\u001b[1;33m\u001b[0m\u001b[1;33m\u001b[0m\u001b[0m\n\u001b[0m\u001b[0;32m   1198\u001b[0m     \u001b[1;32mreturn\u001b[0m \u001b[0mtree\u001b[0m\u001b[1;33m\u001b[0m\u001b[1;33m\u001b[0m\u001b[0m\n\u001b[0;32m   1199\u001b[0m \u001b[1;33m\u001b[0m\u001b[0m\n",
      "\u001b[1;32mF:\\Installed\\Anaconda3\\lib\\xml\\etree\\ElementTree.py\u001b[0m in \u001b[0;36mparse\u001b[1;34m(self, source, parser)\u001b[0m\n\u001b[0;32m    585\u001b[0m         \u001b[0mclose_source\u001b[0m \u001b[1;33m=\u001b[0m \u001b[1;32mFalse\u001b[0m\u001b[1;33m\u001b[0m\u001b[1;33m\u001b[0m\u001b[0m\n\u001b[0;32m    586\u001b[0m         \u001b[1;32mif\u001b[0m \u001b[1;32mnot\u001b[0m \u001b[0mhasattr\u001b[0m\u001b[1;33m(\u001b[0m\u001b[0msource\u001b[0m\u001b[1;33m,\u001b[0m \u001b[1;34m\"read\"\u001b[0m\u001b[1;33m)\u001b[0m\u001b[1;33m:\u001b[0m\u001b[1;33m\u001b[0m\u001b[1;33m\u001b[0m\u001b[0m\n\u001b[1;32m--> 587\u001b[1;33m             \u001b[0msource\u001b[0m \u001b[1;33m=\u001b[0m \u001b[0mopen\u001b[0m\u001b[1;33m(\u001b[0m\u001b[0msource\u001b[0m\u001b[1;33m,\u001b[0m \u001b[1;34m\"rb\"\u001b[0m\u001b[1;33m)\u001b[0m\u001b[1;33m\u001b[0m\u001b[1;33m\u001b[0m\u001b[0m\n\u001b[0m\u001b[0;32m    588\u001b[0m             \u001b[0mclose_source\u001b[0m \u001b[1;33m=\u001b[0m \u001b[1;32mTrue\u001b[0m\u001b[1;33m\u001b[0m\u001b[1;33m\u001b[0m\u001b[0m\n\u001b[0;32m    589\u001b[0m         \u001b[1;32mtry\u001b[0m\u001b[1;33m:\u001b[0m\u001b[1;33m\u001b[0m\u001b[1;33m\u001b[0m\u001b[0m\n",
      "\u001b[1;31mFileNotFoundError\u001b[0m: [Errno 2] No such file or directory: '<Blog>\\n\\n<date>20,July,2004</date>\\n<post>\\n\\n     \\n      About to go t bed late (again) got sucked into (another) late night film. Tonight was  urlLink Maybe Baby . It was really good made me think, but not about babies. The guy screws up his marriage and it made me think about making sure, everyday, that mine is tip top. If I\\'m honest there are areas that we are just getting by in - so I need to resolve to sort them out now before they are a problem. In the film they both keep diaries so I thought I should blog tonight.&nbsp;   Weekend was hectic but great fun. Not that long ago k and I had to work on spending time with other people as a couple. This weekend we never ate alone, except breakfast.&nbsp; K, P and I went for a very breif trip on the river saturday durring a gap in the weather. K stripped off and went for a swim, I love her so much.&nbsp;   Tonight we went out for dinner. It was a lovely evening, the first in weeks, so we ate at the Bridge and sat outside, next to the  urlLink river .     \\n     \\n    \\n</post>\\n\\n<date>14,July,2004</date>\\n<post>\\n\\n     \\n      My Dad has always wanted to go to  urlLink America . I have been several times, for holidays, to see friends or for work. I\\'d love to go with Dad and go on a long road trip. Would make a better blog than this.\\n     \\n    \\n</post>\\n\\n<date>12,July,2004</date>\\n<post>\\n\\n     \\n      ...is a guy painting a blue wall blue.\\n     \\n    \\n</post>\\n\\n<date>11,July,2004</date>\\n<post>\\n\\n     \\n      Can\\'t the  urlLink weather  just sort itself out. I\\'m sure we\\'d already had 2 heat waves by this point last year. I look out of my window on yet another grey day. I wouldn\\'t mind but this is the last free weekend I\\'ll have in a while I want to be out enjoying it.  Yesterday we wrote some thank you cards. Kirsten worked on the garden and I bottled my latest batch of  urlLink beer . In the evening Anna and Jon came around for dinner. I made a lasagne, for the first time, and it was good fun. I\\'d not been feeling too great all day and was exhausted by bed time.  This morning K felt ill and stayed in bed. I was stewarding at church and as usual I was put on car parking. We(I) messed up giving out the buckets for the offering but it was ok. After church I dropped some firewood around to Liz and dropped off K\\'s keys while I was there. Liz wasn\\'t in but I saw paddy through the back door as I left the wood.  I don\\'t feel that great myself. Might be time to join K in the sick bed.\\n     \\n    \\n</post>\\n\\n<date>09,July,2004</date>\\n<post>\\n\\n     \\n      At last back to a normal company where it expected that you go to the pub at lunch on Fridays. Plus they have free breakfast (quite a spread too!). Good to do a bit of socialising.\\n     \\n    \\n</post>\\n\\n<date>08,July,2004</date>\\n<post>\\n\\n     \\n      Induction, on Monday, was in a building right opposite the  urlLink gherkin . If I\\'d known I would have taken my camera. I had a bit of time to kill after getting off the train so I went for a bit of a wander around the city.  So I\\'ve been in the Cambridge office for 3 days now. The job is good and the people friendly. There is no tuckshop which will be good for my waistline but currently I\\'m craving snacks!  My  urlLink HDD case  arrived on Tuesday. I had a few problems at first getting it working with the aluminum case on but once I added a bit of card under the circuit board to act as insulation it worked fine. It is really small, hardly bigger than a 2.5\" drive and it works really well.  Also to arrive on Tuesday was the adoption certificate for my gibbon. NCorp  urlLink adopted  me a gibbon to remind me of them as my leaving gift. I\\'m sure that I have a part share in a whole troop of gibbons but I like to think there is one that\\'s mine. I have called him Dobbo.  Andy & Anita came to dinner on Tuesday night. After dinner the whole proceedings kind of deteriorated into Kirsten and Anita playing the drums while Andy tried to fix my  urlLink sparc station . Much fun was had by all.  Yesterday Labhaoise passed her driving test so K and her when to look at cars together. Pete, Labhaoise, K and I went to see  urlLink Shrek 2  in the evening which was really good.  Labhaoise was going to drive us home but then the lights in Pete\\'s car broke (again) so he drove us back to our house. Pete and I  urlLink fixed  the lights so Labhaoise could drive the car back to their house. \\n     \\n    \\n</post>\\n\\n<date>04,July,2004</date>\\n<post>\\n\\n     \\n      Welcome back. Well sort of, I discovered that my old blog from 2000 was still on the blogger.com server. I read the thirteen posts and they were really dull so I deleted the blog. It was from the days when I was living with my Dad after uni and working for Pilks. It was a month or two before I went to work in the USA which would have made a much more interesting blog had I done it.  Tomorrow I\\'m off to London for my induction meeting at my new company. I\\'m so relieved to leave NCorp that I haven\\'t really given the new place much thought. I\\'m sure it will be great, I was really into the new place 3 months ago when I got the job but  urlLink the pangalactic bellwether in miserable notice periods  has kind of taken the sparkle off it a bit.  At least the train ride down will give me time to write to manda - haven\\'t been in touch since the wedding - bad pen pal!   \\n     \\n    \\n</post>\\n\\n\\n</Blog>'"
     ]
    }
   ],
   "source": [
    "# xtree = et.parse(contents)"
   ]
  },
  {
   "cell_type": "code",
   "execution_count": 11,
   "metadata": {},
   "outputs": [
    {
     "name": "stdout",
     "output_type": "stream",
     "text": [
      "<tag1>On &amp; On &amp; On</tag1>\n"
     ]
    }
   ],
   "source": [
    "myxml = r'<tag1>On & On &amp; On</tag1>'\n",
    "regex = re.compile(r\"&(?!amp;|lt;|gt;)\")\n",
    "myxml = regex.sub(\"&amp;\", myxml)\n",
    "\n",
    "print(myxml)"
   ]
  },
  {
   "cell_type": "code",
   "execution_count": 12,
   "metadata": {},
   "outputs": [
    {
     "name": "stdout",
     "output_type": "stream",
     "text": [
      "<Blog>\n",
      "\n",
      "<date>20,July,2004</date>\n",
      "<post>\n",
      "\n",
      "     \n",
      "      About to go t bed late (again) got sucked into (another) late night film. Tonight was  urlLink Maybe Baby . It was really good made me think, but not about babies. The guy screws up his marriage and it made me think about making sure, everyday, that mine is tip top. If I'm honest there are areas that we are just getting by in - so I need to resolve to sort them out now before they are a problem. In the film they both keep diaries so I thought I should blog tonight.&amp;nbsp;   Weekend was hectic but great fun. Not that long ago k and I had to work on spending time with other people as a couple. This weekend we never ate alone, except breakfast.&amp;nbsp; K, P and I went for a very breif trip on the river saturday durring a gap in the weather. K stripped off and went for a swim, I love her so much.&amp;nbsp;   Tonight we went out for dinner. It was a lovely evening, the first in weeks, so we ate at the Bridge and sat outside, next to the  urlLink river .     \n",
      "     \n",
      "    \n",
      "</post>\n",
      "\n",
      "<date>14,July,2004</date>\n",
      "<post>\n",
      "\n",
      "     \n",
      "      My Dad has always wanted to go to  urlLink America . I have been several times, for holidays, to see friends or for work. I'd love to go with Dad and go on a long road trip. Would make a better blog than this.\n",
      "     \n",
      "    \n",
      "</post>\n",
      "\n",
      "<date>12,July,2004</date>\n",
      "<post>\n",
      "\n",
      "     \n",
      "      ...is a guy painting a blue wall blue.\n",
      "     \n",
      "    \n",
      "</post>\n",
      "\n",
      "<date>11,July,2004</date>\n",
      "<post>\n",
      "\n",
      "     \n",
      "      Can't the  urlLink weather  just sort itself out. I'm sure we'd already had 2 heat waves by this point last year. I look out of my window on yet another grey day. I wouldn't mind but this is the last free weekend I'll have in a while I want to be out enjoying it.  Yesterday we wrote some thank you cards. Kirsten worked on the garden and I bottled my latest batch of  urlLink beer . In the evening Anna and Jon came around for dinner. I made a lasagne, for the first time, and it was good fun. I'd not been feeling too great all day and was exhausted by bed time.  This morning K felt ill and stayed in bed. I was stewarding at church and as usual I was put on car parking. We(I) messed up giving out the buckets for the offering but it was ok. After church I dropped some firewood around to Liz and dropped off K's keys while I was there. Liz wasn't in but I saw paddy through the back door as I left the wood.  I don't feel that great myself. Might be time to join K in the sick bed.\n",
      "     \n",
      "    \n",
      "</post>\n",
      "\n",
      "<date>09,July,2004</date>\n",
      "<post>\n",
      "\n",
      "     \n",
      "      At last back to a normal company where it expected that you go to the pub at lunch on Fridays. Plus they have free breakfast (quite a spread too!). Good to do a bit of socialising.\n",
      "     \n",
      "    \n",
      "</post>\n",
      "\n",
      "<date>08,July,2004</date>\n",
      "<post>\n",
      "\n",
      "     \n",
      "      Induction, on Monday, was in a building right opposite the  urlLink gherkin . If I'd known I would have taken my camera. I had a bit of time to kill after getting off the train so I went for a bit of a wander around the city.  So I've been in the Cambridge office for 3 days now. The job is good and the people friendly. There is no tuckshop which will be good for my waistline but currently I'm craving snacks!  My  urlLink HDD case  arrived on Tuesday. I had a few problems at first getting it working with the aluminum case on but once I added a bit of card under the circuit board to act as insulation it worked fine. It is really small, hardly bigger than a 2.5\" drive and it works really well.  Also to arrive on Tuesday was the adoption certificate for my gibbon. NCorp  urlLink adopted  me a gibbon to remind me of them as my leaving gift. I'm sure that I have a part share in a whole troop of gibbons but I like to think there is one that's mine. I have called him Dobbo.  Andy &amp; Anita came to dinner on Tuesday night. After dinner the whole proceedings kind of deteriorated into Kirsten and Anita playing the drums while Andy tried to fix my  urlLink sparc station . Much fun was had by all.  Yesterday Labhaoise passed her driving test so K and her when to look at cars together. Pete, Labhaoise, K and I went to see  urlLink Shrek 2  in the evening which was really good.  Labhaoise was going to drive us home but then the lights in Pete's car broke (again) so he drove us back to our house. Pete and I  urlLink fixed  the lights so Labhaoise could drive the car back to their house. \n",
      "     \n",
      "    \n",
      "</post>\n",
      "\n",
      "<date>04,July,2004</date>\n",
      "<post>\n",
      "\n",
      "     \n",
      "      Welcome back. Well sort of, I discovered that my old blog from 2000 was still on the blogger.com server. I read the thirteen posts and they were really dull so I deleted the blog. It was from the days when I was living with my Dad after uni and working for Pilks. It was a month or two before I went to work in the USA which would have made a much more interesting blog had I done it.  Tomorrow I'm off to London for my induction meeting at my new company. I'm so relieved to leave NCorp that I haven't really given the new place much thought. I'm sure it will be great, I was really into the new place 3 months ago when I got the job but  urlLink the pangalactic bellwether in miserable notice periods  has kind of taken the sparkle off it a bit.  At least the train ride down will give me time to write to manda - haven't been in touch since the wedding - bad pen pal!   \n",
      "     \n",
      "    \n",
      "</post>\n",
      "\n",
      "\n",
      "</Blog>\n"
     ]
    }
   ],
   "source": [
    "regex = re.compile(r\"&(?!amp;)\")\n",
    "myxml = regex.sub(\"&amp;\", contents)\n",
    "\n",
    "print(myxml)"
   ]
  },
  {
   "cell_type": "code",
   "execution_count": 14,
   "metadata": {},
   "outputs": [],
   "source": [
    "root = et.fromstring(myxml)"
   ]
  },
  {
   "cell_type": "code",
   "execution_count": 15,
   "metadata": {},
   "outputs": [
    {
     "data": {
      "text/plain": [
       "<Element 'Blog' at 0x0000021D3C14E1D8>"
      ]
     },
     "execution_count": 15,
     "metadata": {},
     "output_type": "execute_result"
    }
   ],
   "source": [
    "root"
   ]
  },
  {
   "cell_type": "code",
   "execution_count": null,
   "metadata": {},
   "outputs": [],
   "source": []
  }
 ],
 "metadata": {
  "kernelspec": {
   "display_name": "Python 3",
   "language": "python",
   "name": "python3"
  },
  "language_info": {
   "codemirror_mode": {
    "name": "ipython",
    "version": 3
   },
   "file_extension": ".py",
   "mimetype": "text/x-python",
   "name": "python",
   "nbconvert_exporter": "python",
   "pygments_lexer": "ipython3",
   "version": "3.7.1"
  },
  "varInspector": {
   "cols": {
    "lenName": 16,
    "lenType": 16,
    "lenVar": 40
   },
   "kernels_config": {
    "python": {
     "delete_cmd_postfix": "",
     "delete_cmd_prefix": "del ",
     "library": "var_list.py",
     "varRefreshCmd": "print(var_dic_list())"
    },
    "r": {
     "delete_cmd_postfix": ") ",
     "delete_cmd_prefix": "rm(",
     "library": "var_list.r",
     "varRefreshCmd": "cat(var_dic_list()) "
    }
   },
   "position": {
    "height": "314px",
    "left": "490px",
    "right": "20px",
    "top": "120px",
    "width": "448px"
   },
   "types_to_exclude": [
    "module",
    "function",
    "builtin_function_or_method",
    "instance",
    "_Feature"
   ],
   "window_display": false
  }
 },
 "nbformat": 4,
 "nbformat_minor": 2
}
